{
  "nbformat": 4,
  "nbformat_minor": 0,
  "metadata": {
    "colab": {
      "name": "data_sprints_final.ipynb",
      "provenance": [],
      "collapsed_sections": [],
      "authorship_tag": "ABX9TyNKSgVCgcKeo6q5BA3Q9ooA"
    },
    "kernelspec": {
      "name": "python3",
      "display_name": "Python 3"
    }
  },
  "cells": [
    {
      "cell_type": "code",
      "metadata": {
        "id": "hNET0tPt0WKH",
        "colab_type": "code",
        "colab": {}
      },
      "source": [
        "# pip install PyDrive\n",
        "from pydrive.auth import GoogleAuth\n",
        "from pydrive.drive import GoogleDrive\n",
        "from google.colab import auth\n",
        "from oauth2client.client import GoogleCredentials\n",
        "\n",
        "auth.authenticate_user()\n",
        "gauth = GoogleAuth()\n",
        "gauth.credentials = GoogleCredentials.get_application_default()\n",
        "drive = GoogleDrive(gauth)\n"
      ],
      "execution_count": 0,
      "outputs": []
    },
    {
      "cell_type": "code",
      "metadata": {
        "id": "UHvrDG8-0tuz",
        "colab_type": "code",
        "colab": {
          "base_uri": "https://localhost:8080/",
          "height": 122
        },
        "outputId": "5a6b2df6-54ce-4f15-edf9-824f61da8192"
      },
      "source": [
        "#Mounted Google Drive of interest\n",
        "from google.colab import drive\n",
        "drive.mount(\"/content/drive\", force_remount=True)"
      ],
      "execution_count": 2,
      "outputs": [
        {
          "output_type": "stream",
          "text": [
            "Go to this URL in a browser: https://accounts.google.com/o/oauth2/auth?client_id=947318989803-6bn6qk8qdgf4n4g3pfee6491hc0brc4i.apps.googleusercontent.com&redirect_uri=urn%3aietf%3awg%3aoauth%3a2.0%3aoob&response_type=code&scope=email%20https%3a%2f%2fwww.googleapis.com%2fauth%2fdocs.test%20https%3a%2f%2fwww.googleapis.com%2fauth%2fdrive%20https%3a%2f%2fwww.googleapis.com%2fauth%2fdrive.photos.readonly%20https%3a%2f%2fwww.googleapis.com%2fauth%2fpeopleapi.readonly\n",
            "\n",
            "Enter your authorization code:\n",
            "··········\n",
            "Mounted at /content/drive\n"
          ],
          "name": "stdout"
        }
      ]
    },
    {
      "cell_type": "code",
      "metadata": {
        "id": "6XpZSvzf0wys",
        "colab_type": "code",
        "colab": {}
      },
      "source": [
        "# configuration for viewing the file of interest\n",
        "\n",
        "import pandas as pd\n",
        "import numpy as np\n",
        "import json\n",
        "\n",
        "pd.set_option('display.max_rows', None)\n",
        "pd.set_option('display.max_columns', None)\n",
        "pd.set_option('display.width', None)\n",
        "pd.set_option('display.max_colwidth', -1)"
      ],
      "execution_count": 0,
      "outputs": []
    },
    {
      "cell_type": "code",
      "metadata": {
        "id": "dpqiMCMD02ur",
        "colab_type": "code",
        "colab": {}
      },
      "source": [
        "# read JSON file\n",
        "\n",
        "with open('/content/drive/My Drive/data.sprints/realties.json') as myfile:\n",
        "    teste = json.load(myfile)"
      ],
      "execution_count": 0,
      "outputs": []
    },
    {
      "cell_type": "code",
      "metadata": {
        "id": "6kmGDKn007mz",
        "colab_type": "code",
        "colab": {
          "base_uri": "https://localhost:8080/",
          "height": 102
        },
        "outputId": "6506e7c4-0ea4-4556-da87-a35cf729a20f"
      },
      "source": [
        "#analysis of the file structure\n",
        "\n",
        "for indice in teste.keys():\n",
        "    print (indice)"
      ],
      "execution_count": 5,
      "outputs": [
        {
          "output_type": "stream",
          "text": [
            "_id\n",
            "_index\n",
            "_score\n",
            "_source\n",
            "_type\n"
          ],
          "name": "stdout"
        }
      ]
    },
    {
      "cell_type": "code",
      "metadata": {
        "id": "a31EL9o20_D5",
        "colab_type": "code",
        "colab": {}
      },
      "source": [
        "#adjustments to create data frames according to the file structure\n",
        "\n",
        "def create_list_dict (dicio):\n",
        "    lista = []\n",
        "    for id in dicio.keys():\n",
        "        lista.append(dicio[id])\n",
        "    return lista"
      ],
      "execution_count": 0,
      "outputs": []
    },
    {
      "cell_type": "code",
      "metadata": {
        "id": "SOoQrH0X1Ftu",
        "colab_type": "code",
        "colab": {}
      },
      "source": [
        "lista_id = []\n",
        "lista_index = []\n",
        "lista_score = []\n",
        "lista_source = []\n",
        "lista_type = []\n",
        "\n",
        "lista_id = create_list_dict(teste['_id'])\n",
        "lista_index = create_list_dict(teste['_index'])\n",
        "lista_score = create_list_dict(teste['_score'])\n",
        "lista_source = create_list_dict(teste['_source'])\n",
        "lista_type = create_list_dict(teste['_type'])\n",
        "\n",
        "df_id = pd.DataFrame(lista_id)\n",
        "df_index = pd.DataFrame(lista_index)\n",
        "df_score = pd.DataFrame(lista_score)\n",
        "df_source = pd.DataFrame(lista_source)\n",
        "df_type = pd.DataFrame(lista_type)"
      ],
      "execution_count": 0,
      "outputs": []
    },
    {
      "cell_type": "code",
      "metadata": {
        "id": "s-BUtAro1N9c",
        "colab_type": "code",
        "colab": {
          "base_uri": "https://localhost:8080/",
          "height": 238
        },
        "outputId": "b751aa4e-7cfd-4b4a-89b4-37dd00542478"
      },
      "source": [
        "df_source.columns"
      ],
      "execution_count": 8,
      "outputs": [
        {
          "output_type": "execute_result",
          "data": {
            "text/plain": [
              "Index(['error', 'uf', 'longitude', 'url', 'geometry', 'condominio',\n",
              "       'cidade_uf', 'scraping', 'default', 'area_util', 'area_total',\n",
              "       'contato_imobiliaria', 'valor', 'isportal', 'isparticular',\n",
              "       'nome_corretor', 'banheiro', 'tipo_negocio', 'quarto', 'status',\n",
              "       'title', 'opcionais', 'latitude', 'cidade', 'descricao', 'lista_fotos',\n",
              "       'bairro', 'garagem', 'iptu', 'data_inclusao', 'codigo', 'finalidade',\n",
              "       'geohash', 'tipo_imovel', 'zoneamento', 'anunciante', 'endereco',\n",
              "       'area_construida', 'suite', 'area_terreno', 'area_privativa', 'cep',\n",
              "       'numero_corretor', 'idade_imovel', 'edificio', 'isconstrutora',\n",
              "       'area_comum', 'seguro_incendio', 'email_corretor', 'nome_contato',\n",
              "       'numero_contato_imagem', 'complemento', 'terreno_fundo',\n",
              "       'terreno_frente', 'terreno_esquerda', 'testada'],\n",
              "      dtype='object')"
            ]
          },
          "metadata": {
            "tags": []
          },
          "execution_count": 8
        }
      ]
    },
    {
      "cell_type": "code",
      "metadata": {
        "id": "sUQ6mLHr1kjZ",
        "colab_type": "code",
        "colab": {
          "base_uri": "https://localhost:8080/",
          "height": 1000
        },
        "outputId": "1df01467-1219-49a2-af6c-0366e763a5aa"
      },
      "source": [
        "df_source.head(1)"
      ],
      "execution_count": 9,
      "outputs": [
        {
          "output_type": "execute_result",
          "data": {
            "text/html": [
              "<div>\n",
              "<style scoped>\n",
              "    .dataframe tbody tr th:only-of-type {\n",
              "        vertical-align: middle;\n",
              "    }\n",
              "\n",
              "    .dataframe tbody tr th {\n",
              "        vertical-align: top;\n",
              "    }\n",
              "\n",
              "    .dataframe thead th {\n",
              "        text-align: right;\n",
              "    }\n",
              "</style>\n",
              "<table border=\"1\" class=\"dataframe\">\n",
              "  <thead>\n",
              "    <tr style=\"text-align: right;\">\n",
              "      <th></th>\n",
              "      <th>error</th>\n",
              "      <th>uf</th>\n",
              "      <th>longitude</th>\n",
              "      <th>url</th>\n",
              "      <th>geometry</th>\n",
              "      <th>condominio</th>\n",
              "      <th>cidade_uf</th>\n",
              "      <th>scraping</th>\n",
              "      <th>default</th>\n",
              "      <th>area_util</th>\n",
              "      <th>area_total</th>\n",
              "      <th>contato_imobiliaria</th>\n",
              "      <th>valor</th>\n",
              "      <th>isportal</th>\n",
              "      <th>isparticular</th>\n",
              "      <th>nome_corretor</th>\n",
              "      <th>banheiro</th>\n",
              "      <th>tipo_negocio</th>\n",
              "      <th>quarto</th>\n",
              "      <th>status</th>\n",
              "      <th>title</th>\n",
              "      <th>opcionais</th>\n",
              "      <th>latitude</th>\n",
              "      <th>cidade</th>\n",
              "      <th>descricao</th>\n",
              "      <th>lista_fotos</th>\n",
              "      <th>bairro</th>\n",
              "      <th>garagem</th>\n",
              "      <th>iptu</th>\n",
              "      <th>data_inclusao</th>\n",
              "      <th>codigo</th>\n",
              "      <th>finalidade</th>\n",
              "      <th>geohash</th>\n",
              "      <th>tipo_imovel</th>\n",
              "      <th>zoneamento</th>\n",
              "      <th>anunciante</th>\n",
              "      <th>endereco</th>\n",
              "      <th>area_construida</th>\n",
              "      <th>suite</th>\n",
              "      <th>area_terreno</th>\n",
              "      <th>area_privativa</th>\n",
              "      <th>cep</th>\n",
              "      <th>numero_corretor</th>\n",
              "      <th>idade_imovel</th>\n",
              "      <th>edificio</th>\n",
              "      <th>isconstrutora</th>\n",
              "      <th>area_comum</th>\n",
              "      <th>seguro_incendio</th>\n",
              "      <th>email_corretor</th>\n",
              "      <th>nome_contato</th>\n",
              "      <th>numero_contato_imagem</th>\n",
              "      <th>complemento</th>\n",
              "      <th>terreno_fundo</th>\n",
              "      <th>terreno_frente</th>\n",
              "      <th>terreno_esquerda</th>\n",
              "      <th>testada</th>\n",
              "    </tr>\n",
              "  </thead>\n",
              "  <tbody>\n",
              "    <tr>\n",
              "      <th>0</th>\n",
              "      <td>[]</td>\n",
              "      <td>PR</td>\n",
              "      <td>-49.278522</td>\n",
              "      <td>http://www.redebee.com.br/imovel/apartamento-residencial-para-locacao-centro-curitiba/AP0145-GOMG</td>\n",
              "      <td>{'type': 'Point', 'coordinates': [-49.2785224915, -25.435590744]}</td>\n",
              "      <td>590.0</td>\n",
              "      <td>curitiba_pr</td>\n",
              "      <td>{'spider_name': 'redebee_curitiba_pr', 'padrao': 'in_gaia'}</td>\n",
              "      <td>[finalidade]</td>\n",
              "      <td>131.0</td>\n",
              "      <td>131.0</td>\n",
              "      <td>(41) 99165-0629</td>\n",
              "      <td>1590.0</td>\n",
              "      <td>False</td>\n",
              "      <td>False</td>\n",
              "      <td>Gomes Consultor Imobiliário</td>\n",
              "      <td>2.0</td>\n",
              "      <td>Locação</td>\n",
              "      <td>2.0</td>\n",
              "      <td>1</td>\n",
              "      <td>Apartamento de 131 m² na Rua Comendador Araújo, 279 - Centro - Curitiba - PR, para alugar por R$ 1.590/mês - Rede Bee</td>\n",
              "      <td>[{'location': ['imovel'], 'category': 'Serviço', 'name': 'TV a cabo'}, {'location': ['imovel', 'edificio'], 'category': 'Serviço', 'name': 'Dependência de empregados'}, {'location': ['imovel', 'edificio'], 'category': 'Cômodo', 'name': 'Sala de jantar'}, {'location': ['edificio'], 'category': 'Serviço', 'name': 'Portaria'}, {'location': ['imovel', 'edificio'], 'category': 'Serviço', 'name': 'Circuito de TV'}, {'location': ['imovel', 'edificio'], 'category': 'Serviço', 'name': 'Interfone'}, {'location': ['imovel', 'edificio'], 'category': 'Serviço', 'name': 'Elevador'}, {'location': ['imovel', 'edificio'], 'category': 'Serviço', 'name': 'Portão Eletrônico'}, {'location': ['edificio'], 'category': 'Segurança', 'name': 'Portaria 24 horas'}, {'location': ['imovel'], 'category': 'Cômodo', 'name': 'Cozinha'}, {'location': ['imovel'], 'category': 'Acabamento', 'name': 'Taco de madeira'}]</td>\n",
              "      <td>-25.435591</td>\n",
              "      <td>{'short_name': 'Curitiba', 'full_name': 'Curitiba, Paraná, Brasil'}</td>\n",
              "      <td>Prezado (a) Senhor (a). Muito obrigado por entrar em contato para conhecer o seu futuro imóvel. \\rVisitas somente c/horário marcado e com a presença do consultor imobiliário.\\r\\rImóvel: Sala para 02 ambientes, sala de jantar, 02 quartos (sendo 01 deles com armários), banheiro com armários, cozinha com armários, área de serviço, dependência completa de empregada, piso taco, 01 vaga de garagem (sem lugar fixo para estacionar), fundos.\\r\\rPrédio: Portaria 24 horas, circuito de TV, 2 elevadores, 16 andares, 04 apartamentos por andar, prédio pastilhado.\\rIdade 45 anos\\rCondomínio R$ 590,00 + água + gás + Fundo de Reserva\\rIPTU R$ 77,00\\rVale a pena conhecer o imóvel.\\r\\rOs valores poderão ser alterados sem aviso prévio Armário cozinha Armário quarto Banheiro de empregada Cozinha Dormitório de empregada Elevador Interfone Portão eletrônico Taco de madeira TV a cabo Circuito interno de TV Elevador Esgoto Portaria 24h</td>\n",
              "      <td>[https://imgbe.kenlo.com.br/VWRCUkQ2Tnp3d1BJRDBJVe1szkhnWr9UfpZS9bJDwnbk9Kawbnev1nxMNm9yHFhIP-MQkSx9WYNv0UE4gdYww0c3ieoZfOG55B6K5qeG7Y7F6X+38siTpLD40J3Vf-yBlKdk+qvWSFWB47dPStV7LhllVdhaZBfWfYaKDE8P+Tej+3eUXpZfcmpv7xkulEZx5UC3dJqFzEwN0gjwFKqA8HLJTP+4URYYX-lYCtoz5F9N4lGnUVdgqR9Qu4m9s2qFPua-M4DugSALG1In8oevXbnpmdnCJ5YnGrlrPXoH40EZTKZew-iTSP984RIB5L2WV0fA3gzD1eFzJZz9V9lLzqYBkQySGucd40+7wYGVgPOqaUvQLg9ioueK+vLjaavnGqnzOniih9tPtI3XPIgBZ5mjTyoHXWY1empD9g==.jpg, https://imgbe.kenlo.com.br/VWRCUkQ2Tnp3d1BJRDBJVe1szkhnWr9UfpZS9bJDwnbk9Kawbnev1nxMNm9yHFhIP-MQkSx9WYNv-X9Njtx30U08uf0fQ5a8lwSr+I7E7v7I-EbM5Yj3ru2H8cPVduXM9YN64b-OOAC2vIdJZIcAb1tZQ+VzQyOxX7qPDHdspGjclFSTUIx-EnJF8hwutT5Jwneyb6G2rwAb8i7wFKqA8HLJTP+4URYYX-lYCtoz5F9N4lGnUVdgqR9Qu4m9s2qFPua-M4DugSALG1In8oevXbnpmdnCJ5YnGrlrPXoH40EZTKZew-iTSP984RIB5L2WV0fA3gzD1eFzJZz9V9lLzqYBkQySGucd40+7wYGVgPOqaUvQLg9ioueK+vLjaavnGqnzOniih9tPtI3XPIgBZ5mjTyoHXWY1empD9g==.jpg, https://imgbe.kenlo.com.br/VWRCUkQ2Tnp3d1BJRDBJVe1szkhnWr9UfpZS9bJDwnbk9Kawbnev1nxMNm9yHFhIP-MQkSx9WYNvoAJn38tz2wsgyOgpV7SRkwrf6be03YnEq2DTyLzcr7rn9dPyAffy+rIW14j-FESIk6B-R4wKL11+PM9rGRC0Zo7aFlFtvCejqkLiaaNZZ2F5-VojqztT-VakbZH262kTxBjwFKqA8HLJTP+4URYYX-lYCtoz5F9N4lGnUVdgqR9Qu4m9s2qFPua-M4DugSALG1In8oevXbnpmdnCJ5YnGrlrPXoH40EZTKZew-iTSP984RIB5L2WV0fA3gzD1eFzJZz9V9lLzqYBkQySGucd40+7wYGVgPOqaUvQLg9ioueK+vLjaavnGqnzOniih9tPtI3XPIgBZ5mjTyoHXWY1empD9g==.jpg, https://imgbe.kenlo.com.br/VWRCUkQ2Tnp3d1BJRDBJVe1szkhnWr9UfpZS9bJDwnbk9Kawbnev1nxMNm9yHFhIP-MQkSx9WYNv4Bdl-+hX2C41s9hAQZ+3uHHc3Zu4uem9kxTOoprIkI390ubRUpzx1I0F7PTVMWn0qKdjWf97amN1frh2TAzvfY2OOkdVlDWWvhjTF7VnYmR-wgU-1RoVmQa5drX26lBrjj78U6mE7y7TEvCsRRZDX7RLAtMx8E0Q4hqyW0xy8lAF7Inv5XaBcLmqf8vj1GBMVEgz+5WrU7mum5jMZpl7V6wlM3od60YVF7QQwPyVQOxj609Z-buXUV+SkF3B07VzcJOoXYxNnqUAxg6WSLsf6hm+lICRgqOqOVDabARi4LqfqqfkKfzyGrexem-uzNsT+Y6adYhIIMjqT2lVECwvcC8=.jpg, https://imgbe.kenlo.com.br/VWRCUkQ2Tnp3d1BJRDBJVe1szkhnWr9UfpZS9bJDwnbk9Kawbnev1nxMNm9yHFhIP-MQkSx9WYNv3X5Y9ulE6TI6vOwXYbCJpiO8-d6TtsuEjViZ5oLunK7X2djWBOLc2rpgiajzE0GBsoJJTf8cLmNaRLh3YAzMYpufAWpwsQa3ikTsUqZ+cW5owzkjmh5-4Em1e7Hzpl0M0QjwFKqA8HLJTP+4URYYX-lYCtoz5F9N4lGnUVdgqR9Qu4m9s2qFPua-M4DugSALG1In8oevXbnpmdnCJ5YnGrlrPXoH40EZTKZew-iTSP984RIB5L2WV0fA3gzD1eFzJZz9V9lLzqYBkQySGucd40+7wYGVgPOqaUvQLg9ioueK+vLjaavnGqnzOniih9tPtI3XPIgBZ5mjTyoHXWY1empD9g==.jpg, https://imgbe.kenlo.com.br/VWRCUkQ2Tnp3d1BJRDBJVe1szkhnWr9UfpZS9bJDwnbk9Kawbnev1nxMNm9yHFhIP-MQkSx9WYNv8xpt8fczxSkciJY0ZoWEpBurwNiMtoqIqEqN9JSIn7Ts25vaDeuH6L0RwLb6GFWH9rBuHPt-P1xUYblmVSOzAqSxMlUKkxS3mln6a+JYTS9JhisKrRdqy3eleKCnpnUR3i7wFKqA8HLJTP+4URYYX-lYCtoz5F9N4lGnUVdgqR9Qu4m9s2qFPua-M4DugSALG1In8oevXbnpmdnCJ5YnGrlrPXoH40EZTKZew-iTSP984RIB5L2WV0fA3gzD1eFzJZz9V9lLzqYBkQySGucd40+7wYGVgPOqaUvQLg9ioueK+vLjaavnGqnzOniih9tPtI3XPIgBZ5mjTyoHXWY1empD9g==.jpg, https://imgbe.kenlo.com.br/VWRCUkQ2Tnp3d1BJRDBJVe1szkhnWr9UfpZS9bJDwnbk9Kawbnev1nxMNm9yHFhIP-MQkSx9WYNv+U1Zjc5q2xAcreU-BISO5iPW7qjOxMel-G2h14vo7pWHz5PjTuKD5rE285WqLmKWrbBhe4x3MxkpO8p6AEPjcqeLMX1znTXXrHrIcINsUktlgghpqEYA6nHob6mc+wQigRjwFKqA8HLJTP+4URYYX-lYCtoz5F9N4lGnUVdgqR9Qu4m9s2qFPua-M4DugSALG1In8oevXbnpmdnCJ5YnGrlrPXoH40EZTKZew-iTSP984RIB5L2WV0fA3gzD1eFzJZz9V9lLzqYBkQySGucd40+7wYGVgPOqaUvQLg9ioueK+vLjaavnGqnzOniih9tPtI3XPIgBZ5mjTyoHXWY1empD9g==.jpg, https://imgbe.kenlo.com.br/VWRCUkQ2Tnp3d1BJRDBJVe1szkhnWr9UfpZS9bJDwnbk9Kawbnev1nxMNm9yHFhIP-MQkSx9WYNv21xHickwujYuiPc2U6GMow+M46XP18+BiF6X1Y-9kbTa3OP6QvbM1Ktv64f9K16u6K1pafsbH0BiXtQgGjHTVNuqFUFzsyCVj1vzS+JGZVZJ6CoWzE1dw169T4X33XcLwy7wFKqA8HLJTP+4URYYX-lYCtoz5F9N4lGnUVdgqR9Qu4m9s2qFPua-M4DugSALG1In8oevXbnpmdnCJ5YnGrlrPXoH40EZTKZew-iTSP984RIB5L2WV0fA3gzD1eFzJZz9V9lLzqYBkQySGucd40+7wYGVgPOqaUvQLg9ioueK+vLjaavnGqnzOniih9tPtI3XPIgBZ5mjTyoHXWY1empD9g==.jpg, https://imgbe.kenlo.com.br/VWRCUkQ2Tnp3d1BJRDBJVe1szkhnWr9UfpZS9bJDwnbk9Kawbnev1nxMNm9yHFhIP-MQkSx9WYNvwH863flk2xgsuckoXJ2auA6n-6C2y-mWqnqs0pTv4erE+57CYMrGz4o57-LeEXio7IhhA-h9CEAoWsZaGjbIW4SvAyNwhCSmjHTQSosdflZw4gwylB0K9lujesGj0XcqhHuqXuyB8nTQCaC5XwwWUawNEtEw7ldR7AL0SVpntREFocalqyCZPuL1JoCihipUBAow-56-X7-hkZaPK5RkVqk2dXwP61MDUbcUm+6GWehj7QEYoKGTVEXEwkLDhLImJJ2pDNdPn-EGlQnASrMbuRfqxoPC1qH6aUuAZU5hqu-A7fCxbqunDavxJia8jp5But-IINkZf8i1CCQJEHlnYmhLuw0=.jpg, https://imgbe.kenlo.com.br/VWRCUkQ2Tnp3d1BJRDBJVe1szkhnWr9UfpZS9bJDwnbk9Kawbnev1nxMNm9yHFhIP-MQkSx9WYNv3GJI2vde1k0Pg-BHRqC7mneO-4+x-4259U2n9cqNprrb3M-hd4KD+oRn2v7eGWmbv4JEHtkCIkRwXrVbeTHdR5yqC0UIviG3lnTdYuJrfmZp-z47kCUK9GaFc76O0l8IwxOYXuyB8nTQCaC5XwwWUawNEtEw7ldR7AL0SVpntREFocalqyCZPuL1JoCihipUBAow-56-X7-hkZaPK5RkVqk2dXwP61MDUbcUm+6GWehj7QEYoKGTVEXEwkLDhLImJJ2pDNdPn-EGlQnASrMbuRfqxoPC1qH6aUuAZU5hqu-A7fCxbqunDavxJia8jp5But-IINkZf8i1CCQJEHlnYmhLuw0=.jpg, https://imgbe.kenlo.com.br/VWRCUkQ2Tnp3d1BJRDBJVe1szkhnWr9UfpZS9bJDwnbk9Kawbnev1nxMNm9yHFhIP-MQkSx9WYNvzkJD9cB12SYHzNIybZ6ssiOW+tWPxdaovQGWo67TtJSK0ZvGBvmD+b9ugY-BIwGOrZ9hRuQjbG5dIrNKckKyTb+gH1Fekha9rR2UUeddbGtL8Q1utE5f80KDUYOM3Xc-9C7wFKqA8HLJTP+4URYYX-lYCtoz5F9N4lGnUVdgqR9Qu4m9s2qFPua-M4DugSALG1In8oevXbnpmdnCJ5YnGrlrPXoH40EZTKZew-iTSP984RIB5L2WV0fA3gzD1eFzJZz9V9lLzqYBkQySGucd40+7wYGVgPOqaUvQLg9ioueK+vLjaavnGqnzOniih9tPtI3XPIgBZ5mjTyoHXWY1empD9g==.jpg, https://imgbe.kenlo.com.br/VWRCUkQ2Tnp3d1BJRDBJVe1szkhnWr9UfpZS9bJDwnbk9Kawbnev1nxMNm9yHFhIP-MQkSx9WYNv+0pu-9k35Asdq-gza7aYuwew0JiW5sy5kmrN57bKs67k8Mj7e+n9+oc09P7vQ3Tws-dIatkgDUxSXvknFTvwbaGBJWpggR6BglmTUYUbezdw+1E1jBtK5mHiZ4q+1X0V4x39XuyB8nTQCaC5XwwWUawNEtEw7ldR7AL0SVpntREFocalqyCZPuL1JoCihipUBAow-56-X7-hkZaPK5RkVqk2dXwP61MDUbcUm+6GWehj7QEYoKGTVEXEwkLDhLImJJ2pDNdPn-EGlQnASrMbuRfqxoPC1qH6aUuAZU5hqu-A7fCxbqunDavxJia8jp5But-IINkZf8i1CCQJEHlnYmhLuw0=.jpg, https://imgbe.kenlo.com.br/VWRCUkQ2Tnp3d1BJRDBJVe1szkhnWr9UfpZS9bJDwnbk9Kawbnev1nxMNm9yHFhIP-MQkSx9WYNvzB066dl35lJur9sJeo2ilxGV8IGz4t69iWOU95P0laHQ7uzxf+nh56UkyZP5SGfzs-ZZa94GElopd7YiRCf3RozePHhU+CaMiVXObOpeSUEF-wsUsQdcmXG2BqKe+H064QjwFKqA8HLJTP+4URYYX-lYCtoz5F9N4lGnUVdgqR9Qu4m9s2qFPua-M4DugSALG1In8oevXbnpmdnCJ5YnGrlrPXoH40EZTKZew-iTSP984RIB5L2WV0fA3gzD1eFzJZz9V9lLzqYBkQySGucd40+7wYGVgPOqaUvQLg9ioueK+vLjaavnGqnzOniih9tPtI3XPIgBZ5mjTyoHXWY1empD9g==.jpg, https://imgbe.kenlo.com.br/VWRCUkQ2Tnp3d1BJRDBJVe1szkhnWr9UfpZS9bJDwnbk9Kawbnev1nxMNm9yHFhIP-MQkSx9WYNv93B7iItT0TMAzfY3A66ivC+w+qmav-vGqXy2+Mjw4K3+zubQW-7c7b8O96rXDQaHob5rQv13P2VOReBwXTb7eJ2jDHVemTfRgmDLQaZHZDRN4DEDvAgNmEGmb4f02BszgSH1XuyB8nTQCaC5XwwWUawNEtEw7ldR7AL0SVpntREFocalqyCZPuL1JoCihipUBAow-56-X7-hkZaPK5RkVqk2dXwP61MDUbcUm+6GWehj7QEYoKGTVEXEwkLDhLImJJ2pDNdPn-EGlQnASrMbuRfqxoPC1qH6aUuAZU5hqu-A7fCxbqunDavxJia8jp5But-IINkZf8i1CCQJEHlnYmhLuw0=.jpg, https://imgbe.kenlo.com.br/VWRCUkQ2Tnp3d1BJRDBJVe1szkhnWr9UfpZS9bJDwnbk9Kawbnev1nxMNm9yHFhIP-MQkSx9WYNv3m1ayI4x2wklmfJcbYCujjSu2ajMxvqSvn2QyY3Jhr3WhJ7OYuWG7bAQ9ZfuV3KKvaNGH-MjCVhXZc8qbwTKA6vcIHdarR6WnGrweOJ6Hl1+-x8IzTxOy3eeBZSQyGMSjj78U6mE7y7TEvCsRRZDX7RLAtMx8E0Q4hqyW0xy8lAF7Inv5XaBcLmqf8vj1GBMVEgz+5WrU7mum5jMZpl7V6wlM3od60YVF7QQwPyVQOxj609Z-buXUV+SkF3B07VzcJOoXYxNnqUAxg6WSLsf6hm+lICRgqOqOVDabARi4LqfqqfkKfzyGrexem-uzNsT+Y6adYhIIMjqT2lVECwvcC8=.jpg, https://imgbe.kenlo.com.br/VWRCUkQ2Tnp3d1BJRDBJVe1szkhnWr9UfpZS9bJDwnbk9Kawbnev1nxMNm9yHFhIP-MQkSx9WYNv50NH4M1Bvz4giJUuTrSHmiCY55iE4emjnUKkpJPchqL+0ZneY8vkxpgZjr7eMQCJqLVAG9d2NFxERutGeiLLU7iiBiRmojOyl2PJa5YXblNx9QswvglJ7mWZdKD0y2UX9xjwFKqA8HLJTP+4URYYX-lYCtoz5F9N4lGnUVdgqR9Qu4m9s2qFPua-M4DugSALG1In8oevXbnpmdnCJ5YnGrlrPXoH40EZTKZew-iTSP984RIB5L2WV0fA3gzD1eFzJZz9V9lLzqYBkQySGucd40+7wYGVgPOqaUvQLg9ioueK+vLjaavnGqnzOniih9tPtI3XPIgBZ5mjTyoHXWY1empD9g==.jpg, https://imgbe.kenlo.com.br/VWRCUkQ2Tnp3d1BJRDBJVe1szkhnWr9UfpZS9bJDwnbk9Kawbnev1nxMNm9yHFhIP-MQkSx9WYNv3B1Nle9h2TEwrZM2AYaenhWl5MCX+9mjvWS0x47appr4+Oj1fcDB84wQ7rPWAk+SgrJ9dIQkE2MherNmZxO6AYumbSQJmivUtk-pQJZ2WWFp20Q-lU1P6EqeQsP85Vwb8hqmXuyB8nTQCaC5XwwWUawNEtEw7ldR7AL0SVpntREFocalqyCZPuL1JoCihipUBAow-56-X7-hkZaPK5RkVqk2dXwP61MDUbcUm+6GWehj7QEYoKGTVEXEwkLDhLImJJ2pDNdPn-EGlQnASrMbuRfqxoPC1qH6aUuAZU5hqu-A7fCxbqunDavxJia8jp5But-IINkZf8i1CCQJEHlnYmhLuw0=.jpg, https://imgbe.kenlo.com.br/VWRCUkQ2Tnp3d1BJRDBJVe1szkhnWr9UfpZS9bJDwnbk9Kawbnev1nxMNm9yHFhIP-MQkSx9WYNv8Bt1iMBqwyc7iP0FVqWEtTC5ht+36sWA833I3ZfXga2Cye+icNr5ya1k9I7vD2Svjb5BcYcpLHJVX7d2eyHXRpejEyF1oDOWqhvxXrgaW1pY1D0qzE8P72Sddrqs9nUajj78U6mE7y7TEvCsRRZDX7RLAtMx8E0Q4hqyW0xy8lAF7Inv5XaBcLmqf8vj1GBMVEgz+5WrU7mum5jMZpl7V6wlM3od60YVF7QQwPyVQOxj609Z-buXUV+SkF3B07VzcJOoXYxNnqUAxg6WSLsf6hm+lICRgqOqOVDabARi4LqfqqfkKfzyGrexem-uzNsT+Y6adYhIIMjqT2lVECwvcC8=.jpg, https://imgbe.kenlo.com.br/VWRCUkQ2Tnp3d1BJRDBJVe1szkhnWr9UfpZS9bJDwnbk9Kawbnev1nxMNm9yHFhIP-MQkSx9WYNvo3Y554Jx3woiiOwheaOJhniVhb3ExI6XrUe9os7Tn7+A-Jzbed7O2qM9i6-0PkG9lYN5Re4cLHBSe+gkcgDHdLu3GiIL+gWup0r0bJheaXZI-gYRvEdn53zgQr+mx1AX0gjwFKqA8HLJTP+4URYYX-lYCtoz5F9N4lGnUVdgqR9Qu4m9s2qFPua-M4DugSALG1In8oevXbnpmdnCJ5YnGrlrPXoH40EZTKZew-iTSP984RIB5L2WV0fA3gzD1eFzJZz9V9lLzqYBkQySGucd40+7wYGVgPOqaUvQLg9ioueK+vLjaavnGqnzOniih9tPtI3XPIgBZ5mjTyoHXWY1empD9g==.jpg, https://imgbe.kenlo.com.br/VWRCUkQ2Tnp3d1BJRDBJVe1szkhnWr9UfpZS9bJDwnbk9Kawbnev1nxMNm9yHFhIP-MQkSx9WYNvrBlHicM3yzg4sPYJQoCymReA5JS00PSa6W-P2syJkb-Q4snWAt7C5ZAn5rTQQ0+AmKBiRIR-YnkobvgqdCC7foeHEGV1gh+xtF31d4NqeEN7xD1qqhd7nUngYZHy70Ee3hjwFKqA8HLJTP+4URYYX-lYCtoz5F9N4lGnUVdgqR9Qu4m9s2qFPua-M4DugSALG1In8oevXbnpmdnCJ5YnGrlrPXoH40EZTKZew-iTSP984RIB5L2WV0fA3gzD1eFzJZz9V9lLzqYBkQySGucd40+7wYGVgPOqaUvQLg9ioueK+vLjaavnGqnzOniih9tPtI3XPIgBZ5mjTyoHXWY1empD9g==.jpg, https://imgbe.kenlo.com.br/VWRCUkQ2Tnp3d1BJRDBJVe1szkhnWr9UfpZS9bJDwnbk9Kawbnev1nxMNm9yHFhIP-MQkSx9WYNvzWZ9wclfyEYGz+cuReaUvyKt4peu6PKj9VnIx8nMkaL-5dPCV53w1Y0njKfBLmSmnK9MYcR5aEolfrQqeh7OaK2eE3Vw8zez+n3jF7ttXUBpzlszqRtKy3a9Zcaep0AZ6SemXuyB8nTQCaC5XwwWUawNEtEw7ldR7AL0SVpntREFocalqyCZPuL1JoCihipUBAow-56-X7-hkZaPK5RkVqk2dXwP61MDUbcUm+6GWehj7QEYoKGTVEXEwkLDhLImJJ2pDNdPn-EGlQnASrMbuRfqxoPC1qH6aUuAZU5hqu-A7fCxbqunDavxJia8jp5But-IINkZf8i1CCQJEHlnYmhLuw0=.jpg, https://imgbe.kenlo.com.br/VWRCUkQ2Tnp3d1BJRDBJVe1szkhnWr9UfpZS9bJDwnbk9Kawbnev1nxMNm9yHFhIP-MQkSx9WYNvxGlLj+Jh4z0BzcEkZqObtzjXgreb2feBqEKTwdbnga7H0sqhB83zmJwOgILMPxuMmKBJa+MWDGZmIsprYCPpQ52lN1xQigmSjH6VRrVLSnB1wywvri1d3XKlUt2zrwIKjj78U6mE7y7TEvCsRRZDX7RLAtMx8E0Q4hqyW0xy8lAF7Inv5XaBcLmqf8vj1GBMVEgz+5WrU7mum5jMZpl7V6wlM3od60YVF7QQwPyVQOxj609Z-buXUV+SkF3B07VzcJOoXYxNnqUAxg6WSLsf6hm+lICRgqOqOVDabARi4LqfqqfkKfzyGrexem-uzNsT+Y6adYhIIMjqT2lVECwvcC8=.jpg, https://imgbe.kenlo.com.br/VWRCUkQ2Tnp3d1BJRDBJVe1szkhnWr9UfpZS9bJDwnbk9Kawbnev1nxMNm9yHFhIP-MQkSx9WYNvx1duwu10zyYkk-gaA6GPuwucg96r98qalnuQxpiKuLDXkNigA53V+KNm07DpKVmDoo5jS-gfKG8mQsJNai3bb7mCHHh6ryOSkRvPdLxjbFJU-lwQmkZQ5HKERYX28lQT3wjwFKqA8HLJTP+4URYYX-lYCtoz5F9N4lGnUVdgqR9Qu4m9s2qFPua-M4DugSALG1In8oevXbnpmdnCJ5YnGrlrPXoH40EZTKZew-iTSP984RIB5L2WV0fA3gzD1eFzJZz9V9lLzqYBkQySGucd40+7wYGVgPOqaUvQLg9ioueK+vLjaavnGqnzOniih9tPtI3XPIgBZ5mjTyoHXWY1empD9g==.jpg, https://imgbe.kenlo.com.br/VWRCUkQ2Tnp3d1BJRDBJVe1szkhnWr9UfpZS9bJDwnbk9Kawbnev1nxMNm9yHFhIP-MQkSx9WYNv001G1v1juUo3nfY-dY63k3mJ+pS7u-qrpXam5KnRj6uE38fhduTzz6Bh4Y+jMXSFrqBuQcYVOGFpYMM-XUzvQ4ihGidDujiTnGjGTZZheGULxBks1S51lXKYV6iy8Q8N2QjwFKqA8HLJTP+4URYYX-lYCtoz5F9N4lGnUVdgqR9Qu4m9s2qFPua-M4DugSALG1In8oevXbnpmdnCJ5YnGrlrPXoH40EZTKZew-iTSP984RIB5L2WV0fA3gzD1eFzJZz9V9lLzqYBkQySGucd40+7wYGVgPOqaUvQLg9ioueK+vLjaavnGqnzOniih9tPtI3XPIgBZ5mjTyoHXWY1empD9g==.jpg, https://imgbe.kenlo.com.br/VWRCUkQ2Tnp3d1BJRDBJVe1szkhnWr9UfpZS9bJDwnbk9Kawbnev1nxMNm9yHFhIP-MQkSx9WYNv8nVWyuk2uQcyou4wB4SEo3KV896e-fiXjECT28Lrs5D5x+-VVc7z47AiyrLzCFGT6utDfZk-H1tHRax9Sh3IX4aqNl0NuiKoolSccpdaYlh4+CAtsUp6lWWERYOK0l0f-SOUXuyB8nTQCaC5XwwWUawNEtEw7ldR7AL0SVpntREFocalqyCZPuL1JoCihipUBAow-56-X7-hkZaPK5RkVqk2dXwP61MDUbcUm+6GWehj7QEYoKGTVEXEwkLDhLImJJ2pDNdPn-EGlQnASrMbuRfqxoPC1qH6aUuAZU5hqu-A7fCxbqunDavxJia8jp5But-IINkZf8i1CCQJEHlnYmhLuw0=.jpg, https://imgbe.kenlo.com.br/VWRCUkQ2Tnp3d1BJRDBJVe1szkhnWr9UfpZS9bJDwnbk9Kawbnev1nxMNm9yHFhIP-MQkSx9WYNv83V2yvFDzxUFu5syAbCPswSpm4WG2enBtna33ZfwnorE7uHweN3Y5YcHlKL3Nnn2vYE-Ytl8BBsladVVABf3Qo2uAnxLjgKvthToRepIW2x+1iQSrC1wyVriarOW8X9rjj78U6mE7y7TEvCsRRZDX7RLAtMx8E0Q4hqyW0xy8lAF7Inv5XaBcLmqf8vj1GBMVEgz+5WrU7mum5jMZpl7V6wlM3od60YVF7QQwPyVQOxj609Z-buXUV+SkF3B07VzcJOoXYxNnqUAxg6WSLsf6hm+lICRgqOqOVDabARi4LqfqqfkKfzyGrexem-uzNsT+Y6adYhIIMjqT2lVECwvcC8=.jpg, https://imgbe.kenlo.com.br/VWRCUkQ2Tnp3d1BJRDBJVe1szkhnWr9UfpZS9bJDwnbk9Kawbnev1nxMNm9yHFhIP-MQkSx9WYNv9WNaiu5pyzUfldUfRb2U53mF+bW9+N6flHm2xL6Oh7mEyez+ZJfd7tEz06npT1X2oZF+YOAEGXIjfMRiHADQe7qjImNKuWmephvdc71-ZnoL9hM1wTxZxlKTfrOI2EA5xjGuXuyB8nTQCaC5XwwWUawNEtEw7ldR7AL0SVpntREFocalqyCZPuL1JoCihipUBAow-56-X7-hkZaPK5RkVqk2dXwP61MDUbcUm+6GWehj7QEYoKGTVEXEwkLDhLImJJ2pDNdPn-EGlQnASrMbuRfqxoPC1qH6aUuAZU5hqu-A7fCxbqunDavxJia8jp5But-IINkZf8i1CCQJEHlnYmhLuw0=.jpg, https://imgbe.kenlo.com.br/VWRCUkQ2Tnp3d1BJRDBJVe1szkhnWr9UfpZS9bJDwnbk9Kawbnev1nxMNm9yHFhIP-MQkSx9WYNv4x5Hjfxh4yoRs9I4WJSPtiiD26W--9mQl3251q77vKH9yZrmd+jC05AW14POOVSrgYR7Xv8DaV9UZ8JrWkLJR4TFElwOnjqjtEHVbZ8YamNe9B0pmjtQykPkbLiSz1ES0CaEXuyB8nTQCaC5XwwWUawNEtEw7ldR7AL0SVpntREFocalqyCZPuL1JoCihipUBAow-56-X7-hkZaPK5RkVqk2dXwP61MDUbcUm+6GWehj7QEYoKGTVEXEwkLDhLImJJ2pDNdPn-EGlQnASrMbuRfqxoPC1qH6aUuAZU5hqu-A7fCxbqunDavxJia8jp5But-IINkZf8i1CCQJEHlnYmhLuw0=.jpg, https://imgbe.kenlo.com.br/VWRCUkQ2Tnp3d1BJRDBJVe1szkhnWr9UfpZS9bJDwnbk9Kawbnev1nxMNm9yHFhIP-MQkSx9WYNv7ltKjNM16E8To+clU5CflXPfgdiN+vKEqH-H0Z-GkqvQj+XlBd3x64Qm6IiiCgD0nJV8Y9YNYngmQvlbQxL6Y66HLkNsox3ShU6SFJBmb2hE8CcIvihW3Qe9BMn923Mq8D7wFKqA8HLJTP+4URYYX-lYCtoz5F9N4lGnUVdgqR9Qu4m9s2qFPua-M4DugSALG1In8oevXbnpmdnCJ5YnGrlrPXoH40EZTKZew-iTSP984RIB5L2WV0fA3gzD1eFzJZz9V9lLzqYBkQySGucd40+7wYGVgPOqaUvQLg9ioueK+vLjaavnGqnzOniih9tPtI3XPIgBZ5mjTyoHXWY1empD9g==.jpg]</td>\n",
              "      <td>{'id': '1679', 'nome': 'Centro'}</td>\n",
              "      <td>1.0</td>\n",
              "      <td>77.0</td>\n",
              "      <td>2018-12-07 14:03:20</td>\n",
              "      <td>AP0145-GOMG</td>\n",
              "      <td>[Residencial]</td>\n",
              "      <td>6gkzq9s6znnr</td>\n",
              "      <td>[Apartamento]</td>\n",
              "      <td>{'id': 'GcJDsWQBpLEv0vTVF9WP', 'sigla': 'ZC', 'nome': 'ZONA CENTRAL'}</td>\n",
              "      <td>{'id': '411cbb1b8d58afa3b9419a19714844ae', 'nome': 'Rede Bee'}</td>\n",
              "      <td>R. Comendador Araújo, 279</td>\n",
              "      <td>NaN</td>\n",
              "      <td>NaN</td>\n",
              "      <td>NaN</td>\n",
              "      <td>NaN</td>\n",
              "      <td>NaN</td>\n",
              "      <td>NaN</td>\n",
              "      <td>NaN</td>\n",
              "      <td>NaN</td>\n",
              "      <td>NaN</td>\n",
              "      <td>NaN</td>\n",
              "      <td>NaN</td>\n",
              "      <td>NaN</td>\n",
              "      <td>NaN</td>\n",
              "      <td>NaN</td>\n",
              "      <td>NaN</td>\n",
              "      <td>NaN</td>\n",
              "      <td>NaN</td>\n",
              "      <td>NaN</td>\n",
              "      <td>NaN</td>\n",
              "    </tr>\n",
              "  </tbody>\n",
              "</table>\n",
              "</div>"
            ],
            "text/plain": [
              "  error  uf  longitude  \\\n",
              "0  []    PR -49.278522   \n",
              "\n",
              "                                                                                                 url  \\\n",
              "0  http://www.redebee.com.br/imovel/apartamento-residencial-para-locacao-centro-curitiba/AP0145-GOMG   \n",
              "\n",
              "                                                            geometry  \\\n",
              "0  {'type': 'Point', 'coordinates': [-49.2785224915, -25.435590744]}   \n",
              "\n",
              "   condominio    cidade_uf  \\\n",
              "0  590.0       curitiba_pr   \n",
              "\n",
              "                                                      scraping       default  \\\n",
              "0  {'spider_name': 'redebee_curitiba_pr', 'padrao': 'in_gaia'}  [finalidade]   \n",
              "\n",
              "   area_util  area_total contato_imobiliaria   valor  isportal  isparticular  \\\n",
              "0  131.0      131.0       (41) 99165-0629     1590.0  False     False          \n",
              "\n",
              "                 nome_corretor  banheiro tipo_negocio  quarto  status  \\\n",
              "0  Gomes Consultor Imobiliário  2.0       Locação      2.0     1        \n",
              "\n",
              "                                                                                                                   title  \\\n",
              "0  Apartamento de 131 m² na Rua Comendador Araújo, 279 - Centro - Curitiba - PR, para alugar por R$ 1.590/mês - Rede Bee   \n",
              "\n",
              "                                                                                                                                                                                                                                                                                                                                                                                                                                                                                                                                                                                                                                                                                                                                                                                                                                                                                                                       opcionais  \\\n",
              "0  [{'location': ['imovel'], 'category': 'Serviço', 'name': 'TV a cabo'}, {'location': ['imovel', 'edificio'], 'category': 'Serviço', 'name': 'Dependência de empregados'}, {'location': ['imovel', 'edificio'], 'category': 'Cômodo', 'name': 'Sala de jantar'}, {'location': ['edificio'], 'category': 'Serviço', 'name': 'Portaria'}, {'location': ['imovel', 'edificio'], 'category': 'Serviço', 'name': 'Circuito de TV'}, {'location': ['imovel', 'edificio'], 'category': 'Serviço', 'name': 'Interfone'}, {'location': ['imovel', 'edificio'], 'category': 'Serviço', 'name': 'Elevador'}, {'location': ['imovel', 'edificio'], 'category': 'Serviço', 'name': 'Portão Eletrônico'}, {'location': ['edificio'], 'category': 'Segurança', 'name': 'Portaria 24 horas'}, {'location': ['imovel'], 'category': 'Cômodo', 'name': 'Cozinha'}, {'location': ['imovel'], 'category': 'Acabamento', 'name': 'Taco de madeira'}]   \n",
              "\n",
              "    latitude  \\\n",
              "0 -25.435591   \n",
              "\n",
              "                                                                cidade  \\\n",
              "0  {'short_name': 'Curitiba', 'full_name': 'Curitiba, Paraná, Brasil'}   \n",
              "\n",
              "                                                                                                                                                                                                                                                                                                                                                                                                                                                                                                                                                                                                                                                                                                                                                                                                                                                                                                                                                     descricao  \\\n",
              "0  Prezado (a) Senhor (a). Muito obrigado por entrar em contato para conhecer o seu futuro imóvel. \\rVisitas somente c/horário marcado e com a presença do consultor imobiliário.\\r\\rImóvel: Sala para 02 ambientes, sala de jantar, 02 quartos (sendo 01 deles com armários), banheiro com armários, cozinha com armários, área de serviço, dependência completa de empregada, piso taco, 01 vaga de garagem (sem lugar fixo para estacionar), fundos.\\r\\rPrédio: Portaria 24 horas, circuito de TV, 2 elevadores, 16 andares, 04 apartamentos por andar, prédio pastilhado.\\rIdade 45 anos\\rCondomínio R$ 590,00 + água + gás + Fundo de Reserva\\rIPTU R$ 77,00\\rVale a pena conhecer o imóvel.\\r\\rOs valores poderão ser alterados sem aviso prévio Armário cozinha Armário quarto Banheiro de empregada Cozinha Dormitório de empregada Elevador Interfone Portão eletrônico Taco de madeira TV a cabo Circuito interno de TV Elevador Esgoto Portaria 24h   \n",
              "\n",
              "                                                                                                                                                                                                                                                                                                                                                                                                                                                                                                                                                                                                                                                                                                                                                                                                                                                                                                                                                                                                                                                                                                                                                                                                                                                                                                                                                                                                                                                                                                                                                                                                                                                                                                                                                                                                                                                                                                                                                                                                                                                                                                                                                                                                                                                                                                                                                                                                                                                                                                                                                                                                                                                                                                                                                                                                                                                                                                                                                                                                                                                                                                                                                                                                                                                                                                                                                                                                                                                                                                                                                                                                                                                                                                                                                                                                                                                                                                                                                                                                                                                                                                                                                                                                                                                                                                                                                                                                                                                                                                                                                                                                                                                                                                                                                                                                                                                                                                                                                                                                                                                                                                                                                                                                                                                                                                                                                                                                                                                                                                                                                                                                                                                                                                                                                                                                                                                                                                                                                                                                                                                                                                                                                                                                                                                                                                                                                                                                                                                                                                                                                                                                                                                                                                                                                                                                                                                                                                                                                                                                                                                                                                                                                                                                                                                                                                                                                                                                                                                                                                                                                                                                                                                                                                                                                                                                                                                                                                                                                                                                                                                                                                                                                                                                                                                                                                                                                                                                                                                                                                                                                                                                                                                                                                                                                                                                                                                                                                                                                                                                                                                                                                                                                                                                                                                                                                                                                                                                                                                                                                                                                                                                                                                                                                                                                                                                                                                                                                                                                                                                                                                                                                                                                                                                                                                                                                                                                                                                                                                                                                                                                                                                                                                                                                                                                                                                                                                                                                                                                                                                                                                                                                                                                                                                                                                                                                                                                                                                                                                                                                                                                                                                                                                                                                                                                                                                                                                                                                                                                                                                                                                                                                                                                                                                                                                                                                                                                                                                                                                                                                                                                                                                                                                                                                                                                                                                                                                                                                                                                                                                                                                                                                                                                                                                                                                                                                                                                                                                                                                                                                                                                                                                                                                                                                                                                                         lista_fotos  \\\n",
              "0  [https://imgbe.kenlo.com.br/VWRCUkQ2Tnp3d1BJRDBJVe1szkhnWr9UfpZS9bJDwnbk9Kawbnev1nxMNm9yHFhIP-MQkSx9WYNv0UE4gdYww0c3ieoZfOG55B6K5qeG7Y7F6X+38siTpLD40J3Vf-yBlKdk+qvWSFWB47dPStV7LhllVdhaZBfWfYaKDE8P+Tej+3eUXpZfcmpv7xkulEZx5UC3dJqFzEwN0gjwFKqA8HLJTP+4URYYX-lYCtoz5F9N4lGnUVdgqR9Qu4m9s2qFPua-M4DugSALG1In8oevXbnpmdnCJ5YnGrlrPXoH40EZTKZew-iTSP984RIB5L2WV0fA3gzD1eFzJZz9V9lLzqYBkQySGucd40+7wYGVgPOqaUvQLg9ioueK+vLjaavnGqnzOniih9tPtI3XPIgBZ5mjTyoHXWY1empD9g==.jpg, https://imgbe.kenlo.com.br/VWRCUkQ2Tnp3d1BJRDBJVe1szkhnWr9UfpZS9bJDwnbk9Kawbnev1nxMNm9yHFhIP-MQkSx9WYNv-X9Njtx30U08uf0fQ5a8lwSr+I7E7v7I-EbM5Yj3ru2H8cPVduXM9YN64b-OOAC2vIdJZIcAb1tZQ+VzQyOxX7qPDHdspGjclFSTUIx-EnJF8hwutT5Jwneyb6G2rwAb8i7wFKqA8HLJTP+4URYYX-lYCtoz5F9N4lGnUVdgqR9Qu4m9s2qFPua-M4DugSALG1In8oevXbnpmdnCJ5YnGrlrPXoH40EZTKZew-iTSP984RIB5L2WV0fA3gzD1eFzJZz9V9lLzqYBkQySGucd40+7wYGVgPOqaUvQLg9ioueK+vLjaavnGqnzOniih9tPtI3XPIgBZ5mjTyoHXWY1empD9g==.jpg, https://imgbe.kenlo.com.br/VWRCUkQ2Tnp3d1BJRDBJVe1szkhnWr9UfpZS9bJDwnbk9Kawbnev1nxMNm9yHFhIP-MQkSx9WYNvoAJn38tz2wsgyOgpV7SRkwrf6be03YnEq2DTyLzcr7rn9dPyAffy+rIW14j-FESIk6B-R4wKL11+PM9rGRC0Zo7aFlFtvCejqkLiaaNZZ2F5-VojqztT-VakbZH262kTxBjwFKqA8HLJTP+4URYYX-lYCtoz5F9N4lGnUVdgqR9Qu4m9s2qFPua-M4DugSALG1In8oevXbnpmdnCJ5YnGrlrPXoH40EZTKZew-iTSP984RIB5L2WV0fA3gzD1eFzJZz9V9lLzqYBkQySGucd40+7wYGVgPOqaUvQLg9ioueK+vLjaavnGqnzOniih9tPtI3XPIgBZ5mjTyoHXWY1empD9g==.jpg, https://imgbe.kenlo.com.br/VWRCUkQ2Tnp3d1BJRDBJVe1szkhnWr9UfpZS9bJDwnbk9Kawbnev1nxMNm9yHFhIP-MQkSx9WYNv4Bdl-+hX2C41s9hAQZ+3uHHc3Zu4uem9kxTOoprIkI390ubRUpzx1I0F7PTVMWn0qKdjWf97amN1frh2TAzvfY2OOkdVlDWWvhjTF7VnYmR-wgU-1RoVmQa5drX26lBrjj78U6mE7y7TEvCsRRZDX7RLAtMx8E0Q4hqyW0xy8lAF7Inv5XaBcLmqf8vj1GBMVEgz+5WrU7mum5jMZpl7V6wlM3od60YVF7QQwPyVQOxj609Z-buXUV+SkF3B07VzcJOoXYxNnqUAxg6WSLsf6hm+lICRgqOqOVDabARi4LqfqqfkKfzyGrexem-uzNsT+Y6adYhIIMjqT2lVECwvcC8=.jpg, https://imgbe.kenlo.com.br/VWRCUkQ2Tnp3d1BJRDBJVe1szkhnWr9UfpZS9bJDwnbk9Kawbnev1nxMNm9yHFhIP-MQkSx9WYNv3X5Y9ulE6TI6vOwXYbCJpiO8-d6TtsuEjViZ5oLunK7X2djWBOLc2rpgiajzE0GBsoJJTf8cLmNaRLh3YAzMYpufAWpwsQa3ikTsUqZ+cW5owzkjmh5-4Em1e7Hzpl0M0QjwFKqA8HLJTP+4URYYX-lYCtoz5F9N4lGnUVdgqR9Qu4m9s2qFPua-M4DugSALG1In8oevXbnpmdnCJ5YnGrlrPXoH40EZTKZew-iTSP984RIB5L2WV0fA3gzD1eFzJZz9V9lLzqYBkQySGucd40+7wYGVgPOqaUvQLg9ioueK+vLjaavnGqnzOniih9tPtI3XPIgBZ5mjTyoHXWY1empD9g==.jpg, https://imgbe.kenlo.com.br/VWRCUkQ2Tnp3d1BJRDBJVe1szkhnWr9UfpZS9bJDwnbk9Kawbnev1nxMNm9yHFhIP-MQkSx9WYNv8xpt8fczxSkciJY0ZoWEpBurwNiMtoqIqEqN9JSIn7Ts25vaDeuH6L0RwLb6GFWH9rBuHPt-P1xUYblmVSOzAqSxMlUKkxS3mln6a+JYTS9JhisKrRdqy3eleKCnpnUR3i7wFKqA8HLJTP+4URYYX-lYCtoz5F9N4lGnUVdgqR9Qu4m9s2qFPua-M4DugSALG1In8oevXbnpmdnCJ5YnGrlrPXoH40EZTKZew-iTSP984RIB5L2WV0fA3gzD1eFzJZz9V9lLzqYBkQySGucd40+7wYGVgPOqaUvQLg9ioueK+vLjaavnGqnzOniih9tPtI3XPIgBZ5mjTyoHXWY1empD9g==.jpg, https://imgbe.kenlo.com.br/VWRCUkQ2Tnp3d1BJRDBJVe1szkhnWr9UfpZS9bJDwnbk9Kawbnev1nxMNm9yHFhIP-MQkSx9WYNv+U1Zjc5q2xAcreU-BISO5iPW7qjOxMel-G2h14vo7pWHz5PjTuKD5rE285WqLmKWrbBhe4x3MxkpO8p6AEPjcqeLMX1znTXXrHrIcINsUktlgghpqEYA6nHob6mc+wQigRjwFKqA8HLJTP+4URYYX-lYCtoz5F9N4lGnUVdgqR9Qu4m9s2qFPua-M4DugSALG1In8oevXbnpmdnCJ5YnGrlrPXoH40EZTKZew-iTSP984RIB5L2WV0fA3gzD1eFzJZz9V9lLzqYBkQySGucd40+7wYGVgPOqaUvQLg9ioueK+vLjaavnGqnzOniih9tPtI3XPIgBZ5mjTyoHXWY1empD9g==.jpg, https://imgbe.kenlo.com.br/VWRCUkQ2Tnp3d1BJRDBJVe1szkhnWr9UfpZS9bJDwnbk9Kawbnev1nxMNm9yHFhIP-MQkSx9WYNv21xHickwujYuiPc2U6GMow+M46XP18+BiF6X1Y-9kbTa3OP6QvbM1Ktv64f9K16u6K1pafsbH0BiXtQgGjHTVNuqFUFzsyCVj1vzS+JGZVZJ6CoWzE1dw169T4X33XcLwy7wFKqA8HLJTP+4URYYX-lYCtoz5F9N4lGnUVdgqR9Qu4m9s2qFPua-M4DugSALG1In8oevXbnpmdnCJ5YnGrlrPXoH40EZTKZew-iTSP984RIB5L2WV0fA3gzD1eFzJZz9V9lLzqYBkQySGucd40+7wYGVgPOqaUvQLg9ioueK+vLjaavnGqnzOniih9tPtI3XPIgBZ5mjTyoHXWY1empD9g==.jpg, https://imgbe.kenlo.com.br/VWRCUkQ2Tnp3d1BJRDBJVe1szkhnWr9UfpZS9bJDwnbk9Kawbnev1nxMNm9yHFhIP-MQkSx9WYNvwH863flk2xgsuckoXJ2auA6n-6C2y-mWqnqs0pTv4erE+57CYMrGz4o57-LeEXio7IhhA-h9CEAoWsZaGjbIW4SvAyNwhCSmjHTQSosdflZw4gwylB0K9lujesGj0XcqhHuqXuyB8nTQCaC5XwwWUawNEtEw7ldR7AL0SVpntREFocalqyCZPuL1JoCihipUBAow-56-X7-hkZaPK5RkVqk2dXwP61MDUbcUm+6GWehj7QEYoKGTVEXEwkLDhLImJJ2pDNdPn-EGlQnASrMbuRfqxoPC1qH6aUuAZU5hqu-A7fCxbqunDavxJia8jp5But-IINkZf8i1CCQJEHlnYmhLuw0=.jpg, https://imgbe.kenlo.com.br/VWRCUkQ2Tnp3d1BJRDBJVe1szkhnWr9UfpZS9bJDwnbk9Kawbnev1nxMNm9yHFhIP-MQkSx9WYNv3GJI2vde1k0Pg-BHRqC7mneO-4+x-4259U2n9cqNprrb3M-hd4KD+oRn2v7eGWmbv4JEHtkCIkRwXrVbeTHdR5yqC0UIviG3lnTdYuJrfmZp-z47kCUK9GaFc76O0l8IwxOYXuyB8nTQCaC5XwwWUawNEtEw7ldR7AL0SVpntREFocalqyCZPuL1JoCihipUBAow-56-X7-hkZaPK5RkVqk2dXwP61MDUbcUm+6GWehj7QEYoKGTVEXEwkLDhLImJJ2pDNdPn-EGlQnASrMbuRfqxoPC1qH6aUuAZU5hqu-A7fCxbqunDavxJia8jp5But-IINkZf8i1CCQJEHlnYmhLuw0=.jpg, https://imgbe.kenlo.com.br/VWRCUkQ2Tnp3d1BJRDBJVe1szkhnWr9UfpZS9bJDwnbk9Kawbnev1nxMNm9yHFhIP-MQkSx9WYNvzkJD9cB12SYHzNIybZ6ssiOW+tWPxdaovQGWo67TtJSK0ZvGBvmD+b9ugY-BIwGOrZ9hRuQjbG5dIrNKckKyTb+gH1Fekha9rR2UUeddbGtL8Q1utE5f80KDUYOM3Xc-9C7wFKqA8HLJTP+4URYYX-lYCtoz5F9N4lGnUVdgqR9Qu4m9s2qFPua-M4DugSALG1In8oevXbnpmdnCJ5YnGrlrPXoH40EZTKZew-iTSP984RIB5L2WV0fA3gzD1eFzJZz9V9lLzqYBkQySGucd40+7wYGVgPOqaUvQLg9ioueK+vLjaavnGqnzOniih9tPtI3XPIgBZ5mjTyoHXWY1empD9g==.jpg, https://imgbe.kenlo.com.br/VWRCUkQ2Tnp3d1BJRDBJVe1szkhnWr9UfpZS9bJDwnbk9Kawbnev1nxMNm9yHFhIP-MQkSx9WYNv+0pu-9k35Asdq-gza7aYuwew0JiW5sy5kmrN57bKs67k8Mj7e+n9+oc09P7vQ3Tws-dIatkgDUxSXvknFTvwbaGBJWpggR6BglmTUYUbezdw+1E1jBtK5mHiZ4q+1X0V4x39XuyB8nTQCaC5XwwWUawNEtEw7ldR7AL0SVpntREFocalqyCZPuL1JoCihipUBAow-56-X7-hkZaPK5RkVqk2dXwP61MDUbcUm+6GWehj7QEYoKGTVEXEwkLDhLImJJ2pDNdPn-EGlQnASrMbuRfqxoPC1qH6aUuAZU5hqu-A7fCxbqunDavxJia8jp5But-IINkZf8i1CCQJEHlnYmhLuw0=.jpg, https://imgbe.kenlo.com.br/VWRCUkQ2Tnp3d1BJRDBJVe1szkhnWr9UfpZS9bJDwnbk9Kawbnev1nxMNm9yHFhIP-MQkSx9WYNvzB066dl35lJur9sJeo2ilxGV8IGz4t69iWOU95P0laHQ7uzxf+nh56UkyZP5SGfzs-ZZa94GElopd7YiRCf3RozePHhU+CaMiVXObOpeSUEF-wsUsQdcmXG2BqKe+H064QjwFKqA8HLJTP+4URYYX-lYCtoz5F9N4lGnUVdgqR9Qu4m9s2qFPua-M4DugSALG1In8oevXbnpmdnCJ5YnGrlrPXoH40EZTKZew-iTSP984RIB5L2WV0fA3gzD1eFzJZz9V9lLzqYBkQySGucd40+7wYGVgPOqaUvQLg9ioueK+vLjaavnGqnzOniih9tPtI3XPIgBZ5mjTyoHXWY1empD9g==.jpg, https://imgbe.kenlo.com.br/VWRCUkQ2Tnp3d1BJRDBJVe1szkhnWr9UfpZS9bJDwnbk9Kawbnev1nxMNm9yHFhIP-MQkSx9WYNv93B7iItT0TMAzfY3A66ivC+w+qmav-vGqXy2+Mjw4K3+zubQW-7c7b8O96rXDQaHob5rQv13P2VOReBwXTb7eJ2jDHVemTfRgmDLQaZHZDRN4DEDvAgNmEGmb4f02BszgSH1XuyB8nTQCaC5XwwWUawNEtEw7ldR7AL0SVpntREFocalqyCZPuL1JoCihipUBAow-56-X7-hkZaPK5RkVqk2dXwP61MDUbcUm+6GWehj7QEYoKGTVEXEwkLDhLImJJ2pDNdPn-EGlQnASrMbuRfqxoPC1qH6aUuAZU5hqu-A7fCxbqunDavxJia8jp5But-IINkZf8i1CCQJEHlnYmhLuw0=.jpg, https://imgbe.kenlo.com.br/VWRCUkQ2Tnp3d1BJRDBJVe1szkhnWr9UfpZS9bJDwnbk9Kawbnev1nxMNm9yHFhIP-MQkSx9WYNv3m1ayI4x2wklmfJcbYCujjSu2ajMxvqSvn2QyY3Jhr3WhJ7OYuWG7bAQ9ZfuV3KKvaNGH-MjCVhXZc8qbwTKA6vcIHdarR6WnGrweOJ6Hl1+-x8IzTxOy3eeBZSQyGMSjj78U6mE7y7TEvCsRRZDX7RLAtMx8E0Q4hqyW0xy8lAF7Inv5XaBcLmqf8vj1GBMVEgz+5WrU7mum5jMZpl7V6wlM3od60YVF7QQwPyVQOxj609Z-buXUV+SkF3B07VzcJOoXYxNnqUAxg6WSLsf6hm+lICRgqOqOVDabARi4LqfqqfkKfzyGrexem-uzNsT+Y6adYhIIMjqT2lVECwvcC8=.jpg, https://imgbe.kenlo.com.br/VWRCUkQ2Tnp3d1BJRDBJVe1szkhnWr9UfpZS9bJDwnbk9Kawbnev1nxMNm9yHFhIP-MQkSx9WYNv50NH4M1Bvz4giJUuTrSHmiCY55iE4emjnUKkpJPchqL+0ZneY8vkxpgZjr7eMQCJqLVAG9d2NFxERutGeiLLU7iiBiRmojOyl2PJa5YXblNx9QswvglJ7mWZdKD0y2UX9xjwFKqA8HLJTP+4URYYX-lYCtoz5F9N4lGnUVdgqR9Qu4m9s2qFPua-M4DugSALG1In8oevXbnpmdnCJ5YnGrlrPXoH40EZTKZew-iTSP984RIB5L2WV0fA3gzD1eFzJZz9V9lLzqYBkQySGucd40+7wYGVgPOqaUvQLg9ioueK+vLjaavnGqnzOniih9tPtI3XPIgBZ5mjTyoHXWY1empD9g==.jpg, https://imgbe.kenlo.com.br/VWRCUkQ2Tnp3d1BJRDBJVe1szkhnWr9UfpZS9bJDwnbk9Kawbnev1nxMNm9yHFhIP-MQkSx9WYNv3B1Nle9h2TEwrZM2AYaenhWl5MCX+9mjvWS0x47appr4+Oj1fcDB84wQ7rPWAk+SgrJ9dIQkE2MherNmZxO6AYumbSQJmivUtk-pQJZ2WWFp20Q-lU1P6EqeQsP85Vwb8hqmXuyB8nTQCaC5XwwWUawNEtEw7ldR7AL0SVpntREFocalqyCZPuL1JoCihipUBAow-56-X7-hkZaPK5RkVqk2dXwP61MDUbcUm+6GWehj7QEYoKGTVEXEwkLDhLImJJ2pDNdPn-EGlQnASrMbuRfqxoPC1qH6aUuAZU5hqu-A7fCxbqunDavxJia8jp5But-IINkZf8i1CCQJEHlnYmhLuw0=.jpg, https://imgbe.kenlo.com.br/VWRCUkQ2Tnp3d1BJRDBJVe1szkhnWr9UfpZS9bJDwnbk9Kawbnev1nxMNm9yHFhIP-MQkSx9WYNv8Bt1iMBqwyc7iP0FVqWEtTC5ht+36sWA833I3ZfXga2Cye+icNr5ya1k9I7vD2Svjb5BcYcpLHJVX7d2eyHXRpejEyF1oDOWqhvxXrgaW1pY1D0qzE8P72Sddrqs9nUajj78U6mE7y7TEvCsRRZDX7RLAtMx8E0Q4hqyW0xy8lAF7Inv5XaBcLmqf8vj1GBMVEgz+5WrU7mum5jMZpl7V6wlM3od60YVF7QQwPyVQOxj609Z-buXUV+SkF3B07VzcJOoXYxNnqUAxg6WSLsf6hm+lICRgqOqOVDabARi4LqfqqfkKfzyGrexem-uzNsT+Y6adYhIIMjqT2lVECwvcC8=.jpg, https://imgbe.kenlo.com.br/VWRCUkQ2Tnp3d1BJRDBJVe1szkhnWr9UfpZS9bJDwnbk9Kawbnev1nxMNm9yHFhIP-MQkSx9WYNvo3Y554Jx3woiiOwheaOJhniVhb3ExI6XrUe9os7Tn7+A-Jzbed7O2qM9i6-0PkG9lYN5Re4cLHBSe+gkcgDHdLu3GiIL+gWup0r0bJheaXZI-gYRvEdn53zgQr+mx1AX0gjwFKqA8HLJTP+4URYYX-lYCtoz5F9N4lGnUVdgqR9Qu4m9s2qFPua-M4DugSALG1In8oevXbnpmdnCJ5YnGrlrPXoH40EZTKZew-iTSP984RIB5L2WV0fA3gzD1eFzJZz9V9lLzqYBkQySGucd40+7wYGVgPOqaUvQLg9ioueK+vLjaavnGqnzOniih9tPtI3XPIgBZ5mjTyoHXWY1empD9g==.jpg, https://imgbe.kenlo.com.br/VWRCUkQ2Tnp3d1BJRDBJVe1szkhnWr9UfpZS9bJDwnbk9Kawbnev1nxMNm9yHFhIP-MQkSx9WYNvrBlHicM3yzg4sPYJQoCymReA5JS00PSa6W-P2syJkb-Q4snWAt7C5ZAn5rTQQ0+AmKBiRIR-YnkobvgqdCC7foeHEGV1gh+xtF31d4NqeEN7xD1qqhd7nUngYZHy70Ee3hjwFKqA8HLJTP+4URYYX-lYCtoz5F9N4lGnUVdgqR9Qu4m9s2qFPua-M4DugSALG1In8oevXbnpmdnCJ5YnGrlrPXoH40EZTKZew-iTSP984RIB5L2WV0fA3gzD1eFzJZz9V9lLzqYBkQySGucd40+7wYGVgPOqaUvQLg9ioueK+vLjaavnGqnzOniih9tPtI3XPIgBZ5mjTyoHXWY1empD9g==.jpg, https://imgbe.kenlo.com.br/VWRCUkQ2Tnp3d1BJRDBJVe1szkhnWr9UfpZS9bJDwnbk9Kawbnev1nxMNm9yHFhIP-MQkSx9WYNvzWZ9wclfyEYGz+cuReaUvyKt4peu6PKj9VnIx8nMkaL-5dPCV53w1Y0njKfBLmSmnK9MYcR5aEolfrQqeh7OaK2eE3Vw8zez+n3jF7ttXUBpzlszqRtKy3a9Zcaep0AZ6SemXuyB8nTQCaC5XwwWUawNEtEw7ldR7AL0SVpntREFocalqyCZPuL1JoCihipUBAow-56-X7-hkZaPK5RkVqk2dXwP61MDUbcUm+6GWehj7QEYoKGTVEXEwkLDhLImJJ2pDNdPn-EGlQnASrMbuRfqxoPC1qH6aUuAZU5hqu-A7fCxbqunDavxJia8jp5But-IINkZf8i1CCQJEHlnYmhLuw0=.jpg, https://imgbe.kenlo.com.br/VWRCUkQ2Tnp3d1BJRDBJVe1szkhnWr9UfpZS9bJDwnbk9Kawbnev1nxMNm9yHFhIP-MQkSx9WYNvxGlLj+Jh4z0BzcEkZqObtzjXgreb2feBqEKTwdbnga7H0sqhB83zmJwOgILMPxuMmKBJa+MWDGZmIsprYCPpQ52lN1xQigmSjH6VRrVLSnB1wywvri1d3XKlUt2zrwIKjj78U6mE7y7TEvCsRRZDX7RLAtMx8E0Q4hqyW0xy8lAF7Inv5XaBcLmqf8vj1GBMVEgz+5WrU7mum5jMZpl7V6wlM3od60YVF7QQwPyVQOxj609Z-buXUV+SkF3B07VzcJOoXYxNnqUAxg6WSLsf6hm+lICRgqOqOVDabARi4LqfqqfkKfzyGrexem-uzNsT+Y6adYhIIMjqT2lVECwvcC8=.jpg, https://imgbe.kenlo.com.br/VWRCUkQ2Tnp3d1BJRDBJVe1szkhnWr9UfpZS9bJDwnbk9Kawbnev1nxMNm9yHFhIP-MQkSx9WYNvx1duwu10zyYkk-gaA6GPuwucg96r98qalnuQxpiKuLDXkNigA53V+KNm07DpKVmDoo5jS-gfKG8mQsJNai3bb7mCHHh6ryOSkRvPdLxjbFJU-lwQmkZQ5HKERYX28lQT3wjwFKqA8HLJTP+4URYYX-lYCtoz5F9N4lGnUVdgqR9Qu4m9s2qFPua-M4DugSALG1In8oevXbnpmdnCJ5YnGrlrPXoH40EZTKZew-iTSP984RIB5L2WV0fA3gzD1eFzJZz9V9lLzqYBkQySGucd40+7wYGVgPOqaUvQLg9ioueK+vLjaavnGqnzOniih9tPtI3XPIgBZ5mjTyoHXWY1empD9g==.jpg, https://imgbe.kenlo.com.br/VWRCUkQ2Tnp3d1BJRDBJVe1szkhnWr9UfpZS9bJDwnbk9Kawbnev1nxMNm9yHFhIP-MQkSx9WYNv001G1v1juUo3nfY-dY63k3mJ+pS7u-qrpXam5KnRj6uE38fhduTzz6Bh4Y+jMXSFrqBuQcYVOGFpYMM-XUzvQ4ihGidDujiTnGjGTZZheGULxBks1S51lXKYV6iy8Q8N2QjwFKqA8HLJTP+4URYYX-lYCtoz5F9N4lGnUVdgqR9Qu4m9s2qFPua-M4DugSALG1In8oevXbnpmdnCJ5YnGrlrPXoH40EZTKZew-iTSP984RIB5L2WV0fA3gzD1eFzJZz9V9lLzqYBkQySGucd40+7wYGVgPOqaUvQLg9ioueK+vLjaavnGqnzOniih9tPtI3XPIgBZ5mjTyoHXWY1empD9g==.jpg, https://imgbe.kenlo.com.br/VWRCUkQ2Tnp3d1BJRDBJVe1szkhnWr9UfpZS9bJDwnbk9Kawbnev1nxMNm9yHFhIP-MQkSx9WYNv8nVWyuk2uQcyou4wB4SEo3KV896e-fiXjECT28Lrs5D5x+-VVc7z47AiyrLzCFGT6utDfZk-H1tHRax9Sh3IX4aqNl0NuiKoolSccpdaYlh4+CAtsUp6lWWERYOK0l0f-SOUXuyB8nTQCaC5XwwWUawNEtEw7ldR7AL0SVpntREFocalqyCZPuL1JoCihipUBAow-56-X7-hkZaPK5RkVqk2dXwP61MDUbcUm+6GWehj7QEYoKGTVEXEwkLDhLImJJ2pDNdPn-EGlQnASrMbuRfqxoPC1qH6aUuAZU5hqu-A7fCxbqunDavxJia8jp5But-IINkZf8i1CCQJEHlnYmhLuw0=.jpg, https://imgbe.kenlo.com.br/VWRCUkQ2Tnp3d1BJRDBJVe1szkhnWr9UfpZS9bJDwnbk9Kawbnev1nxMNm9yHFhIP-MQkSx9WYNv83V2yvFDzxUFu5syAbCPswSpm4WG2enBtna33ZfwnorE7uHweN3Y5YcHlKL3Nnn2vYE-Ytl8BBsladVVABf3Qo2uAnxLjgKvthToRepIW2x+1iQSrC1wyVriarOW8X9rjj78U6mE7y7TEvCsRRZDX7RLAtMx8E0Q4hqyW0xy8lAF7Inv5XaBcLmqf8vj1GBMVEgz+5WrU7mum5jMZpl7V6wlM3od60YVF7QQwPyVQOxj609Z-buXUV+SkF3B07VzcJOoXYxNnqUAxg6WSLsf6hm+lICRgqOqOVDabARi4LqfqqfkKfzyGrexem-uzNsT+Y6adYhIIMjqT2lVECwvcC8=.jpg, https://imgbe.kenlo.com.br/VWRCUkQ2Tnp3d1BJRDBJVe1szkhnWr9UfpZS9bJDwnbk9Kawbnev1nxMNm9yHFhIP-MQkSx9WYNv9WNaiu5pyzUfldUfRb2U53mF+bW9+N6flHm2xL6Oh7mEyez+ZJfd7tEz06npT1X2oZF+YOAEGXIjfMRiHADQe7qjImNKuWmephvdc71-ZnoL9hM1wTxZxlKTfrOI2EA5xjGuXuyB8nTQCaC5XwwWUawNEtEw7ldR7AL0SVpntREFocalqyCZPuL1JoCihipUBAow-56-X7-hkZaPK5RkVqk2dXwP61MDUbcUm+6GWehj7QEYoKGTVEXEwkLDhLImJJ2pDNdPn-EGlQnASrMbuRfqxoPC1qH6aUuAZU5hqu-A7fCxbqunDavxJia8jp5But-IINkZf8i1CCQJEHlnYmhLuw0=.jpg, https://imgbe.kenlo.com.br/VWRCUkQ2Tnp3d1BJRDBJVe1szkhnWr9UfpZS9bJDwnbk9Kawbnev1nxMNm9yHFhIP-MQkSx9WYNv4x5Hjfxh4yoRs9I4WJSPtiiD26W--9mQl3251q77vKH9yZrmd+jC05AW14POOVSrgYR7Xv8DaV9UZ8JrWkLJR4TFElwOnjqjtEHVbZ8YamNe9B0pmjtQykPkbLiSz1ES0CaEXuyB8nTQCaC5XwwWUawNEtEw7ldR7AL0SVpntREFocalqyCZPuL1JoCihipUBAow-56-X7-hkZaPK5RkVqk2dXwP61MDUbcUm+6GWehj7QEYoKGTVEXEwkLDhLImJJ2pDNdPn-EGlQnASrMbuRfqxoPC1qH6aUuAZU5hqu-A7fCxbqunDavxJia8jp5But-IINkZf8i1CCQJEHlnYmhLuw0=.jpg, https://imgbe.kenlo.com.br/VWRCUkQ2Tnp3d1BJRDBJVe1szkhnWr9UfpZS9bJDwnbk9Kawbnev1nxMNm9yHFhIP-MQkSx9WYNv7ltKjNM16E8To+clU5CflXPfgdiN+vKEqH-H0Z-GkqvQj+XlBd3x64Qm6IiiCgD0nJV8Y9YNYngmQvlbQxL6Y66HLkNsox3ShU6SFJBmb2hE8CcIvihW3Qe9BMn923Mq8D7wFKqA8HLJTP+4URYYX-lYCtoz5F9N4lGnUVdgqR9Qu4m9s2qFPua-M4DugSALG1In8oevXbnpmdnCJ5YnGrlrPXoH40EZTKZew-iTSP984RIB5L2WV0fA3gzD1eFzJZz9V9lLzqYBkQySGucd40+7wYGVgPOqaUvQLg9ioueK+vLjaavnGqnzOniih9tPtI3XPIgBZ5mjTyoHXWY1empD9g==.jpg]   \n",
              "\n",
              "                             bairro  garagem  iptu        data_inclusao  \\\n",
              "0  {'id': '1679', 'nome': 'Centro'}  1.0      77.0  2018-12-07 14:03:20   \n",
              "\n",
              "        codigo     finalidade       geohash    tipo_imovel  \\\n",
              "0  AP0145-GOMG  [Residencial]  6gkzq9s6znnr  [Apartamento]   \n",
              "\n",
              "                                                              zoneamento  \\\n",
              "0  {'id': 'GcJDsWQBpLEv0vTVF9WP', 'sigla': 'ZC', 'nome': 'ZONA CENTRAL'}   \n",
              "\n",
              "                                                       anunciante  \\\n",
              "0  {'id': '411cbb1b8d58afa3b9419a19714844ae', 'nome': 'Rede Bee'}   \n",
              "\n",
              "                    endereco  area_construida  suite  area_terreno  \\\n",
              "0  R. Comendador Araújo, 279 NaN              NaN    NaN             \n",
              "\n",
              "   area_privativa  cep numero_corretor idade_imovel edificio isconstrutora  \\\n",
              "0 NaN              NaN  NaN             NaN          NaN      NaN            \n",
              "\n",
              "   area_comum seguro_incendio email_corretor nome_contato  \\\n",
              "0 NaN          NaN             NaN            NaN           \n",
              "\n",
              "  numero_contato_imagem complemento terreno_fundo terreno_frente  \\\n",
              "0  NaN                   NaN         NaN           NaN             \n",
              "\n",
              "  terreno_esquerda  testada  \n",
              "0  NaN             NaN       "
            ]
          },
          "metadata": {
            "tags": []
          },
          "execution_count": 9
        }
      ]
    },
    {
      "cell_type": "markdown",
      "metadata": {
        "id": "YlO0dGF11PpI",
        "colab_type": "text"
      },
      "source": [
        "O dataframe *df_source* apresenta as variáveis a serem consideradas na análise solicitada. Logo, as manipulações de tratamento serão realizadas no dataframe citado"
      ]
    },
    {
      "cell_type": "code",
      "metadata": {
        "id": "5YGjtWbG50pR",
        "colab_type": "code",
        "colab": {}
      },
      "source": [
        "#select columns that will be used\n",
        "\n",
        "df_source_1 = df_source.loc [:, ['uf', 'condominio', 'cidade', 'anunciante',\n",
        "                                 'tipo_negocio', 'opcionais', 'iptu', 'bairro','finalidade', \n",
        "                                 'tipo_imovel', 'valor']]\n"
      ],
      "execution_count": 0,
      "outputs": []
    },
    {
      "cell_type": "code",
      "metadata": {
        "id": "nQHJ7YhK55sy",
        "colab_type": "code",
        "colab": {}
      },
      "source": [
        "#manipulate columns with null fields or NaN\n",
        "\n",
        "df_source_1['valor'].fillna(0, inplace=True)\n",
        "\n",
        "df_source_1['condominio'].fillna(0, inplace=True)\n",
        "\n",
        "df_source_1['iptu'].fillna(0, inplace=True)"
      ],
      "execution_count": 0,
      "outputs": []
    },
    {
      "cell_type": "code",
      "metadata": {
        "id": "AIi-btge5-xH",
        "colab_type": "code",
        "colab": {}
      },
      "source": [
        "#manipulate dictionary column with null fields or NaN\n",
        "\n",
        "anun_value = {'id':00000,'nome':'não especificado'}\n",
        "df_source_1['anunciante']=df_source_1['anunciante'].apply(lambda x: x if x == x else anun_value)"
      ],
      "execution_count": 0,
      "outputs": []
    },
    {
      "cell_type": "markdown",
      "metadata": {
        "id": "CL5Yocyf6BFM",
        "colab_type": "text"
      },
      "source": [
        "A partir daqui, comecei a enfrentar problemas para implementar a manipulação dos dados e, consequentemente, a ausência de análises. Mesmo assim, segue escopo da manipulação, porposta de análises e hipóteses levantadas.\n"
      ]
    },
    {
      "cell_type": "markdown",
      "metadata": {
        "id": "XcIiKhLw7pMc",
        "colab_type": "text"
      },
      "source": [
        "\n",
        "*Manipulação*\n",
        "\n",
        "*   Realizar o preenchimento de linhas com {} (dicionários vazios) da coluna 'bairro'\n",
        "*   Realizar o prrencimento de linhas com {} ou NaN ou null da coluna \"opcionais'\n"
      ]
    },
    {
      "cell_type": "markdown",
      "metadata": {
        "id": "xzvPO5yp7qEv",
        "colab_type": "text"
      },
      "source": [
        "*Análises*\n",
        "\n",
        " \n",
        "\n",
        "1.   Extração da frequência dos anunciantes\n",
        "2.   Gráfico de dispersão de valor do imóvel conforme bairro\n",
        "3.   Extração da frequência de finalidade do imóvel\n"
      ]
    },
    {
      "cell_type": "markdown",
      "metadata": {
        "id": "1anR3kDb-rfS",
        "colab_type": "text"
      },
      "source": [
        "*Hipóteses*\n",
        "\n",
        "\n",
        "1.   Verificar quais são os bairros que possuem mais oferta de venda  \n",
        "2.   Verificar quais são os bairros que possuem mais oferta de locação\n",
        "3.   Verificar se o valor do imóvel é influenciado pela quantidade de opcionais \n",
        "4.   Verificar se a finalidade do imóvel é inversamente proporcional ao condomínio\n",
        "5.   Verificar se o valor do iptu é influenciado pelo bairro\n",
        "6.   Verificar quais bairros possuem mais anunciantes\n"
      ]
    },
    {
      "cell_type": "markdown",
      "metadata": {
        "id": "a5tDBmzTBSnw",
        "colab_type": "text"
      },
      "source": [
        "*Premissas das hipóteses*\n",
        "\n",
        "1.   A tendência é que tais bairros sejam os residenciais\n",
        "2.   A tendência é que tais bairros sejam mais próximos da área central\n",
        "3.   A tendência é quanto mais opcionais no imóvel, mais elevado será seu valor\n",
        "4.   A tendência é que imóveis comerciais possuam condomínios mais baratos\n",
        "5.   A tendência é que sejam bairros mais distantes da área central sejam mais baratos\n",
        "6.   Verificar quais anunciantes possuem mais imóveis no catálogo, seja para locação ou venda"
      ]
    }
  ]
}